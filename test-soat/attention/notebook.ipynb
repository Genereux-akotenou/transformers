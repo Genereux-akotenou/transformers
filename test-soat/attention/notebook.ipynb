{
 "cells": [
  {
   "cell_type": "code",
   "execution_count": 12,
   "metadata": {},
   "outputs": [],
   "source": [
    "# path setting\n",
    "import sys, os, warnings\n",
    "DEV_FOLDER = \"/Users/genereux/Documents/UM6P/COURS-S3/S3-PROJECT/transformers/src/\"\n",
    "sys.path.append(os.path.dirname(DEV_FOLDER))\n",
    "warnings.filterwarnings(\"ignore\")"
   ]
  },
  {
   "cell_type": "code",
   "execution_count": 13,
   "metadata": {},
   "outputs": [],
   "source": [
    "# package import\n",
    "from transformers import TrainingArguments\n",
    "from basic_attention.model import EncoderDecoderTransformer\n",
    "from transfer_learning.trainer import Trainer\n",
    "import torch\n",
    "from torch import nn, optim\n",
    "from transformers import TrainingArguments\n",
    "import sklearn"
   ]
  },
  {
   "cell_type": "code",
   "execution_count": 14,
   "metadata": {},
   "outputs": [
    {
     "name": "stdout",
     "output_type": "stream",
     "text": [
      "The model has 89,792,512 trainable parameters\n"
     ]
    }
   ],
   "source": [
    "# model parameter setting\n",
    "device = torch.device(\"cuda:0\" if torch.cuda.is_available() else \"cpu\")\n",
    "batch_size = 128\n",
    "max_len = 256\n",
    "d_model = 768\n",
    "n_layers = 6\n",
    "n_heads = 8\n",
    "ffn_hidden = 2048\n",
    "drop_prob = 0.1\n",
    "\n",
    "# optimizer parameter setting\n",
    "init_lr = 1e-5\n",
    "factor = 0.9\n",
    "adam_eps = 5e-9\n",
    "patience = 10\n",
    "warmup = 100\n",
    "epoch = 1000\n",
    "clip = 1.0\n",
    "weight_decay = 5e-4\n",
    "inf = float('inf')\n",
    "\n",
    "# vocab setting\n",
    "src_pad_idx = 1\n",
    "trg_pad_idx = 1\n",
    "trg_sos_idx = 1\n",
    "enc_voc_size = 4096\n",
    "dec_voc_size = 4096\n",
    "\n",
    "# Encoder decoder\n",
    "model = EncoderDecoderTransformer(\n",
    "    src_pad_idx=src_pad_idx,\n",
    "    trg_pad_idx=trg_pad_idx,\n",
    "    trg_sos_idx=trg_sos_idx,\n",
    "    d_model=d_model,\n",
    "    enc_voc_size=enc_voc_size,\n",
    "    dec_voc_size=dec_voc_size,\n",
    "    max_len=max_len,\n",
    "    ffn_hidden=ffn_hidden,\n",
    "    n_head=n_heads,\n",
    "    n_layers=n_layers,\n",
    "    drop_prob=drop_prob,\n",
    "    device=device\n",
    ").to(device)\n",
    "\n",
    "# init model weights\n",
    "def initialize_weights(m):\n",
    "    if hasattr(m, 'weight') and m.weight.dim() > 1:\n",
    "        nn.init.kaiming_uniform(m.weight.data)\n",
    "model.apply(initialize_weights)\n",
    "\n",
    "# model parameters\n",
    "def count_parameters(model):\n",
    "    return sum(p.numel() for p in model.parameters() if p.requires_grad)\n",
    "print(f'The model has {count_parameters(model):,} trainable parameters')"
   ]
  },
  {
   "cell_type": "markdown",
   "metadata": {},
   "source": [
    "#### Data"
   ]
  },
  {
   "cell_type": "code",
   "execution_count": 15,
   "metadata": {},
   "outputs": [
    {
     "name": "stderr",
     "output_type": "stream",
     "text": [
      "Some weights of BertModel were not initialized from the model checkpoint at zhihan1996/DNABERT-2-117M and are newly initialized: ['bert.pooler.dense.bias', 'bert.pooler.dense.weight']\n",
      "You should probably TRAIN this model on a down-stream task to be able to use it for predictions and inference.\n",
      "Map: 100%|██████████| 8/8 [00:00<00:00, 1801.39 examples/s]\n",
      "Map: 100%|██████████| 5/5 [00:00<00:00, 1470.55 examples/s]\n"
     ]
    }
   ],
   "source": [
    "from datasets import Dataset\n",
    "from transformers import AutoTokenizer, AutoModel\n",
    "from transformers.models.bert.configuration_bert import BertConfig\n",
    "\n",
    "# tokenizer\n",
    "bert_model_name = \"zhihan1996/DNABERT-2-117M\"\n",
    "config = BertConfig.from_pretrained(bert_model_name)\n",
    "model_base  = AutoModel.from_pretrained(bert_model_name, trust_remote_code=True, config=config)\n",
    "tokenizer = AutoTokenizer.from_pretrained(bert_model_name, trust_remote_code=True)\n",
    "\n",
    "# Load datasets (example)\n",
    "train_dataset = Dataset.from_list([\n",
    "    {\"input\": \"ATGCGGTCGTTAATGCTAACTCGTA\", \"target\": \"ATGCGG[SEP]GCTAACT\"}, \n",
    "    {\"input\": \"ATGCGGTCGTTAATGCTAACTCGTA\", \"target\": \"ATGCGG[SEP]GCTAACT\"},\n",
    "    {\"input\": \"ATGCGGTCGTTAATGCTAACTCGTA\", \"target\": \"ATGCGG[SEP]GCTAACT\"},\n",
    "    {\"input\": \"ATGCGGTCGTTAATGCTAACTCGTA\", \"target\": \"ATGCGG[SEP]GCTAACT\"},\n",
    "    {\"input\": \"ATGCGGTCGTTAATGCTAACTCGTA\", \"target\": \"ATGCGG[SEP]GCTAACT\"},\n",
    "    {\"input\": \"ATGCGGTCGTTAATGCTAACTCGTA\", \"target\": \"ATGCGG[SEP]GCTAACT\"},\n",
    "    {\"input\": \"ATGCGGTCGTTAATGCTAACTCGTA\", \"target\": \"ATGCGG[SEP]GCTAACT\"},\n",
    "    {\"input\": \"ATGCGGTCGTTAATGCTAACTCGTA\", \"target\": \"ATGCGG[SEP]GCTAACT\"},\n",
    "])\n",
    "eval_dataset = Dataset.from_list([\n",
    "    {\"input\": \"ATGCGGTCGTTAATGCTAACTCGTA\", \"target\": \"ATGCGG[SEP]GCTAACT\"},\n",
    "    {\"input\": \"ATGCGGTCGTTAATGCTAACTCGTA\", \"target\": \"ATGCGG[SEP]GCTAACT\"},\n",
    "    {\"input\": \"ATGCGGTCGTTAATGCTAACTCGTA\", \"target\": \"ATGCGG[SEP]GCTAACT\"},\n",
    "    {\"input\": \"ATGCGGTCGTTAATGCTAACTCGTA\", \"target\": \"ATGCGG[SEP]GCTAACT\"},\n",
    "    {\"input\": \"ATGCGGTCGTTAATGCTAACTCGTA\", \"target\": \"ATGCGG[SEP]GCTAACT\"}\n",
    "])\n",
    "\n",
    "# format data\n",
    "def tokenize_data(examples):\n",
    "    inputs = tokenizer(examples[\"input\"], max_length=512, truncation=False, padding=False)\n",
    "    targets = tokenizer(examples[\"target\"], max_length=128, truncation=False, padding=False)\n",
    "    inputs[\"labels\"] = targets[\"input_ids\"]\n",
    "    return inputs\n",
    "train_dataset = train_dataset.map(tokenize_data, batched=True)\n",
    "eval_dataset  = eval_dataset.map(tokenize_data, batched=True)\n",
    "train_dataset.set_format(type=\"torch\", columns=['input', 'target', 'input_ids', 'token_type_ids', 'attention_mask', 'labels'])\n",
    "eval_dataset.set_format(type=\"torch\", columns=['input', 'target', 'input_ids', 'token_type_ids', 'attention_mask', 'labels'])"
   ]
  },
  {
   "cell_type": "code",
   "execution_count": 16,
   "metadata": {},
   "outputs": [
    {
     "data": {
      "text/plain": [
       "TransformerEmbedding(\n",
       "  (tok_emb): TokenEmbedding(4096, 768, padding_idx=1)\n",
       "  (pos_emb): PositionalEncoding()\n",
       "  (drop_out): Dropout(p=0.1, inplace=False)\n",
       ")"
      ]
     },
     "execution_count": 16,
     "metadata": {},
     "output_type": "execute_result"
    }
   ],
   "source": [
    "model.encoder.embedding"
   ]
  },
  {
   "cell_type": "code",
   "execution_count": 17,
   "metadata": {},
   "outputs": [
    {
     "data": {
      "text/plain": [
       "tensor([[-0.1081, -0.0478, -0.1337,  ..., -0.0456,  0.0276, -0.0295],\n",
       "        [-0.0433, -0.0380,  0.0122,  ..., -0.0294, -0.0236, -0.0278],\n",
       "        [-0.0282, -0.0394, -0.0300,  ..., -0.0290, -0.0247, -0.0284],\n",
       "        ...,\n",
       "        [-0.0089, -0.1071, -0.1570,  ..., -0.1560, -0.0673,  0.0237],\n",
       "        [ 0.1428, -0.2395, -0.3721,  ...,  0.0201, -0.0197, -0.1389],\n",
       "        [ 0.0216, -0.0273, -0.2600,  ..., -0.0592, -0.2058,  0.0234]])"
      ]
     },
     "execution_count": 17,
     "metadata": {},
     "output_type": "execute_result"
    }
   ],
   "source": [
    "model.encoder.embedding.tok_emb.weight.data.copy_(\n",
    "    model_base.embeddings.word_embeddings.weight.data.clone()\n",
    ")\n",
    "model.decoder.embedding.tok_emb.weight.data.copy_(\n",
    "    model_base.embeddings.word_embeddings.weight.data.clone()\n",
    ")"
   ]
  },
  {
   "cell_type": "code",
   "execution_count": 18,
   "metadata": {},
   "outputs": [
    {
     "data": {
      "text/plain": [
       "{'input': 'ATGCGGTCGTTAATGCTAACTCGTA',\n",
       " 'target': 'ATGCGG[SEP]GCTAACT',\n",
       " 'input_ids': tensor([   1, 3218,   72,   16, 2028,   79,   40,   35,    2]),\n",
       " 'token_type_ids': tensor([0, 0, 0, 0, 0, 0, 0, 0, 0]),\n",
       " 'attention_mask': tensor([1, 1, 1, 1, 1, 1, 1, 1, 1]),\n",
       " 'labels': tensor([   1, 3218,   72,    2,  233, 1038,    2])}"
      ]
     },
     "execution_count": 18,
     "metadata": {},
     "output_type": "execute_result"
    }
   ],
   "source": [
    "train_dataset[0]"
   ]
  },
  {
   "cell_type": "markdown",
   "metadata": {},
   "source": [
    "#### Training"
   ]
  },
  {
   "cell_type": "code",
   "execution_count": 19,
   "metadata": {},
   "outputs": [],
   "source": [
    "class CustomTrainingArguments(TrainingArguments):\n",
    "    def __init__(self, *args, adam_eps=None, factor=None, patience=None, src_pad_idx=None, **kwargs):\n",
    "        super().__init__(*args, **kwargs)\n",
    "        self.adam_eps = adam_eps\n",
    "        self.factor = factor\n",
    "        self.patience = patience\n",
    "        self.src_pad_idx = src_pad_idx\n",
    "\n",
    "def compute_metrics(preds, labels):\n",
    "    from sklearn.metrics import accuracy_score\n",
    "    return {\"accuracy\": accuracy_score(labels, preds)}"
   ]
  },
  {
   "cell_type": "code",
   "execution_count": 20,
   "metadata": {},
   "outputs": [],
   "source": [
    "training_args = CustomTrainingArguments(\n",
    "    output_dir=\"./results\",\n",
    "    num_train_epochs=20,\n",
    "    per_device_train_batch_size=32,\n",
    "    per_device_eval_batch_size=32,\n",
    "    learning_rate=5e-5,\n",
    "    weight_decay=0.01,\n",
    "    adam_eps=1e-8,\n",
    "    factor=0.1,\n",
    "    patience=2,\n",
    "    src_pad_idx=src_pad_idx,\n",
    "    max_grad_norm=1.0,\n",
    ")\n",
    "\n",
    "trainer = Trainer(\n",
    "    model=model,\n",
    "    train_dataset=train_dataset,\n",
    "    eval_dataset=eval_dataset,\n",
    "    tokenizer=tokenizer,\n",
    "    training_args=training_args,\n",
    "    compute_metrics=compute_metrics,\n",
    ")"
   ]
  },
  {
   "cell_type": "code",
   "execution_count": 21,
   "metadata": {},
   "outputs": [
    {
     "data": {
      "text/html": [
       "<pre style=\"white-space:pre;overflow-x:auto;line-height:normal;font-family:Menlo,'DejaVu Sans Mono',consolas,'Courier New',monospace\"><span style=\"font-style: italic\">               Metrics Summary               </span>\n",
       "┏━━━━━━━┳━━━━━━━━━━━━┳━━━━━━━━━━━┳━━━━━━━━━━┓\n",
       "┃<span style=\"color: #800080; text-decoration-color: #800080; font-weight: bold\"> Epoch </span>┃<span style=\"color: #800080; text-decoration-color: #800080; font-weight: bold\"> train_loss </span>┃<span style=\"color: #800080; text-decoration-color: #800080; font-weight: bold\"> eval_loss </span>┃<span style=\"color: #800080; text-decoration-color: #800080; font-weight: bold\"> accuracy </span>┃\n",
       "┡━━━━━━━╇━━━━━━━━━━━━╇━━━━━━━━━━━╇━━━━━━━━━━┩\n",
       "│   1   │   9.0743   │  6.1555   │  0.3333  │\n",
       "│   2   │   6.1555   │  4.4297   │  0.3333  │\n",
       "│   3   │   4.4297   │  3.4188   │  0.3333  │\n",
       "│   4   │   3.4188   │  2.6924   │  0.3333  │\n",
       "│   5   │   2.6924   │  2.1309   │  0.3333  │\n",
       "│   6   │   2.1309   │  1.8550   │  0.3333  │\n",
       "│   7   │   1.8550   │  1.6958   │  0.3333  │\n",
       "│   8   │   1.6958   │  1.6913   │  0.1667  │\n",
       "│   9   │   1.6913   │  1.6070   │  0.3333  │\n",
       "│  10   │   1.6070   │  1.7029   │  0.3333  │\n",
       "│  11   │   1.7029   │  1.7035   │  0.3333  │\n",
       "│  12   │   1.7035   │  1.6147   │  0.3333  │\n",
       "│  13   │   1.6147   │  1.6282   │  0.3333  │\n",
       "│  14   │   1.6282   │  1.6302   │  0.3333  │\n",
       "│  15   │   1.6302   │  1.6193   │  0.3333  │\n",
       "│  16   │   1.6193   │  1.6019   │  0.3333  │\n",
       "│  17   │   1.6019   │  1.5998   │  0.3333  │\n",
       "│  18   │   1.5998   │  1.5973   │  0.3333  │\n",
       "│  19   │   1.5973   │  1.5946   │  0.3333  │\n",
       "│  20   │   1.5946   │  1.5917   │  0.3333  │\n",
       "└───────┴────────────┴───────────┴──────────┘\n",
       "</pre>\n"
      ],
      "text/plain": [
       "\u001b[3m               Metrics Summary               \u001b[0m\n",
       "┏━━━━━━━┳━━━━━━━━━━━━┳━━━━━━━━━━━┳━━━━━━━━━━┓\n",
       "┃\u001b[1;35m \u001b[0m\u001b[1;35mEpoch\u001b[0m\u001b[1;35m \u001b[0m┃\u001b[1;35m \u001b[0m\u001b[1;35mtrain_loss\u001b[0m\u001b[1;35m \u001b[0m┃\u001b[1;35m \u001b[0m\u001b[1;35meval_loss\u001b[0m\u001b[1;35m \u001b[0m┃\u001b[1;35m \u001b[0m\u001b[1;35maccuracy\u001b[0m\u001b[1;35m \u001b[0m┃\n",
       "┡━━━━━━━╇━━━━━━━━━━━━╇━━━━━━━━━━━╇━━━━━━━━━━┩\n",
       "│   1   │   9.0743   │  6.1555   │  0.3333  │\n",
       "│   2   │   6.1555   │  4.4297   │  0.3333  │\n",
       "│   3   │   4.4297   │  3.4188   │  0.3333  │\n",
       "│   4   │   3.4188   │  2.6924   │  0.3333  │\n",
       "│   5   │   2.6924   │  2.1309   │  0.3333  │\n",
       "│   6   │   2.1309   │  1.8550   │  0.3333  │\n",
       "│   7   │   1.8550   │  1.6958   │  0.3333  │\n",
       "│   8   │   1.6958   │  1.6913   │  0.1667  │\n",
       "│   9   │   1.6913   │  1.6070   │  0.3333  │\n",
       "│  10   │   1.6070   │  1.7029   │  0.3333  │\n",
       "│  11   │   1.7029   │  1.7035   │  0.3333  │\n",
       "│  12   │   1.7035   │  1.6147   │  0.3333  │\n",
       "│  13   │   1.6147   │  1.6282   │  0.3333  │\n",
       "│  14   │   1.6282   │  1.6302   │  0.3333  │\n",
       "│  15   │   1.6302   │  1.6193   │  0.3333  │\n",
       "│  16   │   1.6193   │  1.6019   │  0.3333  │\n",
       "│  17   │   1.6019   │  1.5998   │  0.3333  │\n",
       "│  18   │   1.5998   │  1.5973   │  0.3333  │\n",
       "│  19   │   1.5973   │  1.5946   │  0.3333  │\n",
       "│  20   │   1.5946   │  1.5917   │  0.3333  │\n",
       "└───────┴────────────┴───────────┴──────────┘\n"
      ]
     },
     "metadata": {},
     "output_type": "display_data"
    }
   ],
   "source": [
    "trainer.train()"
   ]
  },
  {
   "cell_type": "code",
   "execution_count": null,
   "metadata": {},
   "outputs": [],
   "source": []
  },
  {
   "cell_type": "code",
   "execution_count": null,
   "metadata": {},
   "outputs": [],
   "source": []
  }
 ],
 "metadata": {
  "kernelspec": {
   "display_name": "transformers",
   "language": "python",
   "name": "python3"
  },
  "language_info": {
   "codemirror_mode": {
    "name": "ipython",
    "version": 3
   },
   "file_extension": ".py",
   "mimetype": "text/x-python",
   "name": "python",
   "nbconvert_exporter": "python",
   "pygments_lexer": "ipython3",
   "version": "3.11.8"
  },
  "orig_nbformat": 4
 },
 "nbformat": 4,
 "nbformat_minor": 2
}
